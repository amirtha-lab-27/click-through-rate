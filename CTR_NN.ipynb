{
 "cells": [
  {
   "cell_type": "code",
   "execution_count": null,
   "id": "c14f31ce-b30c-439b-aa71-3088de63d6a9",
   "metadata": {},
   "outputs": [],
   "source": [
    "import sys\n",
    "sys.executable\n"
   ]
  },
  {
   "cell_type": "code",
   "execution_count": null,
   "id": "174fb313-9066-437d-ab95-839a322895c2",
   "metadata": {},
   "outputs": [],
   "source": [
    "import os\n",
    "for dirname, _, filenames in os.walk('C:/Users/abi27/Downloads/CTR'):\n",
    "    for filename in filenames:\n",
    "        print(os.path.join(dirname, filename))"
   ]
  },
  {
   "cell_type": "code",
   "execution_count": null,
   "id": "65859dd5-1496-4a14-86d3-6633d4627a16",
   "metadata": {
    "scrolled": true
   },
   "outputs": [],
   "source": [
    "!pip install torch"
   ]
  },
  {
   "cell_type": "code",
   "execution_count": null,
   "id": "a3283665-a192-472f-9838-355240a2cbb5",
   "metadata": {
    "scrolled": true
   },
   "outputs": [],
   "source": [
    "!pip install -U deepctr-torch\n",
    "!pip install category-encoders\n"
   ]
  },
  {
   "cell_type": "code",
   "execution_count": null,
   "id": "c239ee89-27e2-4eaf-9aad-4ba743bd4daa",
   "metadata": {},
   "outputs": [],
   "source": [
    "import numpy as np \n",
    "import pandas as pd "
   ]
  },
  {
   "cell_type": "code",
   "execution_count": null,
   "id": "2f1806b4-6514-43db-8a78-bf74f315a660",
   "metadata": {},
   "outputs": [],
   "source": [
    "import torch\n",
    "from sklearn.metrics import mean_squared_error\n",
    "from sklearn.model_selection import train_test_split\n",
    "from sklearn.preprocessing import LabelEncoder\n",
    "\n",
    "from deepctr_torch.inputs import SparseFeat, get_feature_names,DenseFeat\n",
    "from deepctr_torch.models import DeepFM"
   ]
  },
  {
   "cell_type": "code",
   "execution_count": null,
   "id": "bdba84f5-1778-4353-93c1-0b4aaa25b1d7",
   "metadata": {},
   "outputs": [],
   "source": [
    "import numpy as np\n",
    "import seaborn as sns\n",
    "import matplotlib.pyplot as plt\n",
    "import warnings\n",
    "warnings.filterwarnings('ignore')\n",
    "sns.set_theme(style=\"darkgrid\")\n",
    "pd.set_option('display.max_columns', 0)\n",
    "plt.style.use('ggplot')\n",
    "pd.options.display.float_format = '{:.2f}'.format\n",
    "import math\n",
    "from sklearn.preprocessing import LabelEncoder ,MinMaxScaler\n",
    "from sklearn.model_selection import train_test_split\n",
    "from sklearn import metrics\n",
    "from sklearn.feature_selection import RFE\n",
    "from sklearn.model_selection import GridSearchCV\n",
    "import random\n",
    "import gzip\n",
    "import category_encoders as ce\n",
    "pd.options.display.float_format = '{:.2f}'.format"
   ]
  },
  {
   "cell_type": "code",
   "execution_count": null,
   "id": "3995eaee-4c84-4f29-afd4-b58995f6b51b",
   "metadata": {},
   "outputs": [],
   "source": [
    "num_records = 40428967\n",
    "sample_size = 40028967\n",
    "\n",
    "skip_values = sorted(random.sample(range(1, num_records), num_records - sample_size))\n",
    "parse_date = lambda val: pd.to_datetime(val, format='%y%m%d%H')\n",
    "data = pd.read_csv(\"C:/Users/abi27/Downloads/CTR/train.csv\", parse_dates=['hour'], chunksize=500000, date_parser=parse_date, \n",
    "                   skiprows=skip_values)\n",
    "\n",
    "data = next(data)\n"
   ]
  },
  {
   "cell_type": "code",
   "execution_count": null,
   "id": "e5f46b51-4b8d-42f3-acca-2ecdebc9f0ab",
   "metadata": {},
   "outputs": [],
   "source": [
    "data.shape"
   ]
  },
  {
   "cell_type": "code",
   "execution_count": null,
   "id": "b91b48c3-2a34-4985-b8e0-807d5d7c74b9",
   "metadata": {},
   "outputs": [],
   "source": [
    "datecolumn=['hour']\n",
    "for col in datecolumn:\n",
    "    data[col+'month'] = data[col].dt.month\n",
    "    data[col+'dayofweek'] = data[col].dt.dayofweek\n",
    "    data[col+'day'] = data[col].dt.day\n",
    "    data[col+'hour_time'] = data[col].dt.hour\n",
    "data.head(2)"
   ]
  },
  {
   "cell_type": "code",
   "execution_count": null,
   "id": "640c5a24-b370-4330-8265-b7d6ad8f28e2",
   "metadata": {},
   "outputs": [],
   "source": [
    "col = ['C15', 'C16', 'C19', 'C21']\n",
    "for col in col:\n",
    "    percentiles = data[col].quantile(0.98)\n",
    "    if data[col].quantile(0.98) < 0.5 * data[col].max():\n",
    "        data[col][data[col] >= percentiles] = percentiles"
   ]
  },
  {
   "cell_type": "code",
   "execution_count": null,
   "id": "354e69b1-e178-4a4c-943e-7bc0c54ed264",
   "metadata": {},
   "outputs": [],
   "source": [
    "label='click'\n",
    "target = [label]\n",
    "dense_features = []\n",
    "sparse_features = []\n",
    "\n",
    "for col in (list(data.columns)):\n",
    "    if data[col].dtype == \"object\":\n",
    "        sparse_features.append(col)\n",
    "    else:\n",
    "        dense_features.append(col)\n",
    "dense_features.remove(label)"
   ]
  },
  {
   "cell_type": "code",
   "execution_count": null,
   "id": "fbc38578-1c22-4892-8a2a-823cd5b4545a",
   "metadata": {},
   "outputs": [],
   "source": [
    "data[sparse_features] = data[sparse_features].fillna('-1', )\n",
    "data[dense_features] = data[dense_features].fillna(0, )"
   ]
  },
  {
   "cell_type": "code",
   "execution_count": null,
   "id": "f3c18773-ce2c-497c-b3c7-a5512eacdf4d",
   "metadata": {},
   "outputs": [],
   "source": [
    "drop_unique_ids=[]\n",
    "\n",
    "for col in (list(data.columns)):\n",
    "    if len(list(data[col].unique())) == data.shape[0]:\n",
    "        drop_unique_ids.append(col)\n",
    "drop_unique_ids"
   ]
  },
  {
   "cell_type": "code",
   "execution_count": null,
   "id": "495d0265-8cbd-4d6d-b175-282365b7c85e",
   "metadata": {},
   "outputs": [],
   "source": [
    "if(len(datecolumn)>0):\n",
    "    data.drop(datecolumn, axis=1, inplace=True)"
   ]
  },
  {
   "cell_type": "code",
   "execution_count": null,
   "id": "a68a5955-ba91-43ee-95e2-d741cb7be87d",
   "metadata": {},
   "outputs": [],
   "source": [
    "if(len(drop_unique_ids)>0):\n",
    "    data.drop(drop_unique_ids, axis=1, inplace=True)"
   ]
  },
  {
   "cell_type": "code",
   "execution_count": null,
   "id": "6e706338-ab28-47f8-95a1-baff4eee8def",
   "metadata": {},
   "outputs": [],
   "source": [
    "dense_features.remove('id')\n",
    "dense_features.remove('hour')\n",
    "dense_features.remove('C17')"
   ]
  },
  {
   "cell_type": "code",
   "execution_count": null,
   "id": "2d89c23b-b7c6-4911-a68a-1e49f0169a6b",
   "metadata": {},
   "outputs": [],
   "source": [
    "import matplotlib.pyplot as plt\n",
    "import seaborn as sns\n",
    "\n",
    "sns.set(style='whitegrid')\n",
    "plt.figure(figsize=(5, 4))\n",
    "sns.countplot(x='click', data=data)\n",
    "plt.title('Click Distribution')\n",
    "plt.xlabel('Click (1 = Yes, 0 = No)')\n",
    "plt.ylabel('Count')\n",
    "plt.show()\n"
   ]
  },
  {
   "cell_type": "code",
   "execution_count": null,
   "id": "7e0e1de7-1168-46a0-90f1-94f2ad80e9c6",
   "metadata": {},
   "outputs": [],
   "source": [
    "cardinality = {col: data[col].nunique() for col in categorical_features}\n",
    "cardinality"
   ]
  },
  {
   "cell_type": "code",
   "execution_count": null,
   "id": "cbd744de-6871-421a-8d45-9564ef59e717",
   "metadata": {},
   "outputs": [],
   "source": [
    "# Pie chart for click distribution\n",
    "click_counts = data['click'].value_counts()\n",
    "labels = ['Not Clicked (0)', 'Clicked (1)']\n",
    "colors = ['skyblue', 'salmon']\n",
    "\n",
    "plt.figure(figsize=(5, 5))\n",
    "plt.pie(click_counts, labels=labels, autopct='%1.1f%%', colors=colors, startangle=90, explode=[0.05, 0])\n",
    "plt.title('Click Distribution')\n",
    "plt.axis('equal')  # Equal aspect ratio ensures a perfect circle.\n",
    "plt.show()"
   ]
  },
  {
   "cell_type": "code",
   "execution_count": null,
   "id": "7ab629e0-0f6e-4ddf-b8da-c54389dba2ae",
   "metadata": {},
   "outputs": [],
   "source": [
    "plt.figure(figsize=(6, 4))\n",
    "sns.countplot(data=data, x='device_type', hue='click', palette={0: \"steelblue\", 1: \"coral\"})\n",
    "\n",
    "plt.title('Click Count by Device Type')\n",
    "plt.xlabel('device_type')\n",
    "plt.ylabel('Count')\n",
    "plt.legend(title='click', loc='upper right')\n",
    "plt.tight_layout()\n",
    "plt.show()"
   ]
  },
  {
   "cell_type": "code",
   "execution_count": null,
   "id": "3bd10214-ab4b-4ba6-8e7c-653a38c61594",
   "metadata": {},
   "outputs": [],
   "source": [
    "import plotly.express as px\n",
    "fig = px.histogram(data, x=\"device_model\")\n",
    "fig.show()"
   ]
  },
  {
   "cell_type": "code",
   "execution_count": null,
   "id": "d5e5a1a5-8ee4-4f29-b868-94f39771a308",
   "metadata": {},
   "outputs": [],
   "source": [
    "# 1.Label Encoding for sparse features,and do simple Transformation for dense features\n",
    "for feat in sparse_features:\n",
    "        lbe = LabelEncoder()\n",
    "        data[feat] = lbe.fit_transform(data[feat])\n",
    "mms = MinMaxScaler(feature_range=(0, 1))\n",
    "data[dense_features] = mms.fit_transform(data[dense_features])"
   ]
  },
  {
   "cell_type": "code",
   "execution_count": null,
   "id": "09a16b43-7adc-4dea-bfe0-118a45460a08",
   "metadata": {},
   "outputs": [],
   "source": [
    "# 2.count #unique features for each sparse field,and record dense feature field name\n",
    "\n",
    "fixlen_feature_columns = [SparseFeat(feat, vocabulary_size=data[feat].max() + 1, embedding_dim=4)\n",
    "                              for feat in sparse_features] + [DenseFeat(feat, 1, )\n",
    "                                                              for feat in dense_features]"
   ]
  },
  {
   "cell_type": "code",
   "execution_count": null,
   "id": "f3fbd110-8105-41fa-a7e3-7a5f3c28b258",
   "metadata": {},
   "outputs": [],
   "source": [
    "dnn_feature_columns = fixlen_feature_columns\n",
    "linear_feature_columns = fixlen_feature_columns\n",
    "\n",
    "feature_names = get_feature_names(\n",
    "        linear_feature_columns + dnn_feature_columns)\n",
    "feature_names"
   ]
  },
  {
   "cell_type": "code",
   "execution_count": null,
   "id": "3cacac9a-7654-4a38-b330-ca3eb38db047",
   "metadata": {},
   "outputs": [],
   "source": [
    "# 3.generate input data for model\n",
    "\n",
    "train, test = train_test_split(data, test_size=0.2)\n",
    "train_model_input = {name: train[name] for name in feature_names}\n",
    "test_model_input = {name: test[name] for name in feature_names}\n",
    "train"
   ]
  },
  {
   "cell_type": "code",
   "execution_count": null,
   "id": "d40e8758-b6b6-40ea-a6cf-9a28a9aae106",
   "metadata": {},
   "outputs": [],
   "source": [
    "# 4.Define Model,train,predict and evaluate\n",
    "\n",
    "device = 'cpu'\n",
    "use_cuda = True\n",
    "if use_cuda and torch.cuda.is_available():\n",
    "        print('cuda ready...')\n",
    "        device = 'cuda:0'"
   ]
  },
  {
   "cell_type": "code",
   "execution_count": null,
   "id": "173b30fe-6f26-4c49-8866-b5b792230dc5",
   "metadata": {},
   "outputs": [],
   "source": [
    "model = DeepFM(linear_feature_columns=linear_feature_columns, dnn_feature_columns=dnn_feature_columns,\n",
    "                   task='binary',\n",
    "                   l2_reg_embedding=1e-1, device=device)\n",
    "model.compile(\"adagrad\", \"binary_crossentropy\",\n",
    "                  metrics=[\"binary_crossentropy\", \"auc\"], )"
   ]
  },
  {
   "cell_type": "code",
   "execution_count": null,
   "id": "49947f39-fbed-45e4-9d03-38932901c628",
   "metadata": {},
   "outputs": [],
   "source": [
    "history = model.fit(train_model_input, train[target].values, batch_size=128, epochs=10, verbose=2,\n",
    "                        validation_split=0.15) "
   ]
  },
  {
   "cell_type": "code",
   "execution_count": null,
   "id": "b7857c40-5cf6-4df8-9c0d-4a5f377e743b",
   "metadata": {},
   "outputs": [],
   "source": [
    "from sklearn.metrics import log_loss, roc_auc_score,accuracy_score\n",
    "from sklearn.metrics import f1_score\n",
    "from sklearn.metrics import cohen_kappa_score\n",
    "from sklearn.metrics import roc_auc_score,roc_curve\n",
    "import statsmodels.api as sm\n",
    "from sklearn.metrics import precision_score,recall_score\n",
    "pred_ans = model.predict(test_model_input, 256)"
   ]
  },
  {
   "cell_type": "code",
   "execution_count": null,
   "id": "121ff490-4824-46b0-8f11-5c5041522f3a",
   "metadata": {},
   "outputs": [],
   "source": [
    "ypred=[]\n",
    "for i in pred_ans:\n",
    "    ypred.append(round(i[0]))"
   ]
  },
  {
   "cell_type": "code",
   "execution_count": null,
   "id": "c35c3869-215d-4875-9843-b5353f7f9a3f",
   "metadata": {},
   "outputs": [],
   "source": [
    "print(\"\")\n",
    "print(\"test LogLoss\", round(log_loss(test[target].values, pred_ans), 4))\n",
    "print(\"test AUC\", round(roc_auc_score(test[target].values, pred_ans), 4))\n",
    "print(\"test Roc accuracy \", round(roc_auc_score(test[target].values,ypred), 4))\n",
    "print(\"test f1 score\", round(f1_score(test[target].values,ypred), 4))\n",
    "print(\"test precision score\", round(precision_score(test[target].values,ypred), 4))\n",
    "print(\"test recall score\", round(recall_score(test[target].values,ypred), 4))\n",
    "print(\"test accuracy score\", round(accuracy_score(test[target].values,ypred), 4))"
   ]
  },
  {
   "cell_type": "code",
   "execution_count": null,
   "id": "c2975122-ae5b-46e0-bbf3-b84bd350af88",
   "metadata": {},
   "outputs": [],
   "source": [
    "from deepctr_torch.models import xDeepFM\n",
    "model = xDeepFM(linear_feature_columns=linear_feature_columns, dnn_feature_columns=dnn_feature_columns,\n",
    "                   task='binary',\n",
    "                   l2_reg_embedding=1e-1, device=device)\n",
    "model.compile(\"adagrad\", \"binary_crossentropy\",\n",
    "                  metrics=[\"binary_crossentropy\", \"auc\"], )"
   ]
  },
  {
   "cell_type": "code",
   "execution_count": null,
   "id": "4a76f71d-5ac7-41c4-ae95-d14caab479de",
   "metadata": {},
   "outputs": [],
   "source": [
    "history = model.fit(train_model_input, train[target].values, batch_size=128, epochs=10, verbose=2,\n",
    "                        validation_split=0.15)"
   ]
  },
  {
   "cell_type": "code",
   "execution_count": null,
   "id": "e5223007-20d6-4e8f-8891-72f96d54f1bc",
   "metadata": {},
   "outputs": [],
   "source": [
    "pred_ans = model.predict(test_model_input, 256)\n",
    "ypred=[]\n",
    "for i in pred_ans:\n",
    "    ypred.append(round(i[0]))\n",
    "\n",
    "print(\"\")\n",
    "print(\"test LogLoss\", round(log_loss(test[target].values, pred_ans), 4))\n",
    "print(\"test AUC\", round(roc_auc_score(test[target].values, pred_ans), 4))\n",
    "print(\"test Roc accuracy \", round(roc_auc_score(test[target].values,ypred), 4))\n",
    "\n",
    "print(\"test f1 score\", round(f1_score(test[target].values,ypred), 4))\n",
    "print(\"test precision score\", round(precision_score(test[target].values,ypred), 4))\n",
    "print(\"test recall score\", round(recall_score(test[target].values,ypred), 4))\n",
    "print(\"test accuracy score\", round(accuracy_score(test[target].values,ypred), 4))"
   ]
  },
  {
   "cell_type": "code",
   "execution_count": null,
   "id": "06ec3a89-22c9-4efc-8ba5-62a564417a71",
   "metadata": {},
   "outputs": [],
   "source": [
    "from deepctr_torch.models import WDL\n",
    "model = WDL(linear_feature_columns=linear_feature_columns, dnn_feature_columns=dnn_feature_columns,\n",
    "                   task='binary',\n",
    "                   l2_reg_embedding=1e-3, device=device)\n",
    "model.compile(\"adagrad\", \"binary_crossentropy\",\n",
    "                  metrics=[\"binary_crossentropy\", \"auc\"], )\n",
    "history = model.fit(train_model_input, train[target].values, batch_size=512, epochs=10, verbose=2,\n",
    "                        validation_split=0.15)\n",
    "\n",
    "pred_ans = model.predict(test_model_input, 256)"
   ]
  },
  {
   "cell_type": "code",
   "execution_count": null,
   "id": "2c31b8d1-56ab-4bb3-98a4-908c1a669131",
   "metadata": {},
   "outputs": [],
   "source": [
    "ypred=[]\n",
    "for i in pred_ans:\n",
    "    ypred.append(round(i[0]))\n",
    "\n",
    "print(\"\")\n",
    "print(\"test LogLoss\", round(log_loss(test[target].values, pred_ans), 4))\n",
    "print(\"test AUC\", round(roc_auc_score(test[target].values, pred_ans), 4))\n",
    "print(\"test Roc accuracy \", round(roc_auc_score(test[target].values,ypred), 4))\n",
    "print(\"test f1 score\", round(f1_score(test[target].values,ypred), 4))\n",
    "print(\"test precision score\", round(precision_score(test[target].values,ypred), 4))\n",
    "print(\"test recall score\", round(recall_score(test[target].values,ypred), 4))\n",
    "print(\"test accuracy score\", round(accuracy_score(test[target].values,ypred), 4))"
   ]
  },
  {
   "cell_type": "code",
   "execution_count": null,
   "id": "b385ccca-def4-4369-b93e-75348ecd67d6",
   "metadata": {},
   "outputs": [],
   "source": [
    "from deepctr_torch.models import DCN\n",
    "model = DCN(linear_feature_columns=linear_feature_columns, dnn_feature_columns=dnn_feature_columns,\n",
    "                   task='binary',\n",
    "                   l2_reg_embedding=1e-3, device=device)\n",
    "model.compile(\"adagrad\", \"binary_crossentropy\",\n",
    "                  metrics=[\"binary_crossentropy\", \"auc\"], )\n",
    "history = model.fit(train_model_input, train[target].values, batch_size=512, epochs=10, verbose=2,\n",
    "                        validation_split=0.15)\n",
    "\n",
    "pred_ans = model.predict(test_model_input, 256)"
   ]
  },
  {
   "cell_type": "code",
   "execution_count": null,
   "id": "fcf295d4-9ce2-4438-a096-468f60597dd4",
   "metadata": {},
   "outputs": [],
   "source": [
    "ypred=[]\n",
    "for i in pred_ans:\n",
    "    ypred.append(round(i[0]))\n",
    "\n",
    "print(\"\")\n",
    "print(\"test LogLoss\", round(log_loss(test[target].values, pred_ans), 4))\n",
    "print(\"test AUC\", round(roc_auc_score(test[target].values, pred_ans), 4))\n",
    "print(\"test Roc accuracy \", round(roc_auc_score(test[target].values,ypred), 4))\n",
    "print(\"test f1 score\", round(f1_score(test[target].values,ypred), 4))\n",
    "print(\"test precision score\", round(precision_score(test[target].values,ypred), 4))\n",
    "print(\"test recall score\", round(recall_score(test[target].values,ypred), 4))\n",
    "print(\"test accuracy score\", round(accuracy_score(test[target].values,ypred), 4))\n"
   ]
  },
  {
   "cell_type": "code",
   "execution_count": null,
   "id": "fa84eee6-96a8-4cbe-8600-a31bebecbfca",
   "metadata": {},
   "outputs": [],
   "source": []
  }
 ],
 "metadata": {
  "kernelspec": {
   "display_name": "Python 3 (ipykernel)",
   "language": "python",
   "name": "python3"
  },
  "language_info": {
   "codemirror_mode": {
    "name": "ipython",
    "version": 3
   },
   "file_extension": ".py",
   "mimetype": "text/x-python",
   "name": "python",
   "nbconvert_exporter": "python",
   "pygments_lexer": "ipython3",
   "version": "3.12.7"
  }
 },
 "nbformat": 4,
 "nbformat_minor": 5
}
